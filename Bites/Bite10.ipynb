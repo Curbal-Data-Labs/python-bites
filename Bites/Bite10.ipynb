{
 "cells": [
  {
   "cell_type": "markdown",
   "id": "8246f5f2-0255-4359-91da-0b9f5624b880",
   "metadata": {
    "tags": []
   },
   "source": [
    "# Bite 10: Bar charts with matplotlib"
   ]
  },
  {
   "cell_type": "markdown",
   "id": "e2af5d14-d173-4a97-b9d7-317f5ff0905b",
   "metadata": {},
   "source": [
    "[![Open in Colab](https://colab.research.google.com/assets/colab-badge.svg)](https://colab.research.google.com/github/Curbal-Data-Labs/python-bites/blob/main/Bites/Bite10.ipynb)"
   ]
  },
  {
   "cell_type": "markdown",
   "id": "6bb22642-b093-41ff-951b-e8c8da769d23",
   "metadata": {},
   "source": [
    "### Video tutorial and Bite 10 available [here](https://curbal.com/curbal-learning-portal/bite-10)"
   ]
  },
  {
   "cell_type": "markdown",
   "id": "fca24f05-e8ef-4448-8c1d-0361c21c4249",
   "metadata": {},
   "source": [
    "[![Bite 1](https://img.youtube.com/vi/ZgqnPYmEcXw/0.jpg)](https://www.youtube.com/watch?v=ZgqnPYmEcXw)"
   ]
  },
  {
   "cell_type": "markdown",
   "id": "fa5b2811-6276-4d3e-92fd-61fac4bc8df8",
   "metadata": {},
   "source": [
    "**1.** Connect to the database"
   ]
  },
  {
   "cell_type": "code",
   "execution_count": 9,
   "id": "8e3fdf9d-06a8-416a-995d-803ade03e79e",
   "metadata": {},
   "outputs": [
    {
     "data": {
      "text/plain": [
       "['crime_scene_report',\n",
       " 'drivers_license',\n",
       " 'facebook_event_checkin',\n",
       " 'interview',\n",
       " 'get_fit_now_member',\n",
       " 'get_fit_now_check_in',\n",
       " 'income',\n",
       " 'person',\n",
       " 'crimes_geo']"
      ]
     },
     "execution_count": 9,
     "metadata": {},
     "output_type": "execute_result"
    }
   ],
   "source": [
    "import sqlite3\n",
    "import pandas as pd\n",
    "import numpy as np\n",
    "import matplotlib.pyplot as plt\n",
    "\n",
    "\n",
    "def get_data():\n",
    "    #read the db\n",
    "    global df_tbl\n",
    "    global conn\n",
    "    conn = sqlite3.connect(r'C:\\Users\\Ruth Pozuelo\\Documents\\GitHub\\local-python-game\\Data\\murder-mystery.db')\n",
    "    #List all tables in dB and convert them to a list\n",
    "    df_tbl = pd.read_sql_query('SELECT name from sqlite_master where type= \"table\"',conn)\n",
    "    df_tbl = df_tbl.name.tolist()   #convert to list\n",
    "\n",
    "get_data()    \n",
    "df_tbl"
   ]
  },
  {
   "cell_type": "markdown",
   "id": "15cd7831-6d52-46a7-98fc-7fbd585d89f8",
   "metadata": {},
   "source": [
    "**2.** Get the data from the Crime Scene Report table"
   ]
  },
  {
   "cell_type": "code",
   "execution_count": 10,
   "id": "e4d3e085-b74d-4c23-9c26-f1b73925c186",
   "metadata": {},
   "outputs": [
    {
     "data": {
      "text/html": [
       "<div>\n",
       "<style scoped>\n",
       "    .dataframe tbody tr th:only-of-type {\n",
       "        vertical-align: middle;\n",
       "    }\n",
       "\n",
       "    .dataframe tbody tr th {\n",
       "        vertical-align: top;\n",
       "    }\n",
       "\n",
       "    .dataframe thead th {\n",
       "        text-align: right;\n",
       "    }\n",
       "</style>\n",
       "<table border=\"1\" class=\"dataframe\">\n",
       "  <thead>\n",
       "    <tr style=\"text-align: right;\">\n",
       "      <th></th>\n",
       "      <th>date</th>\n",
       "      <th>type</th>\n",
       "      <th>description</th>\n",
       "      <th>city</th>\n",
       "    </tr>\n",
       "  </thead>\n",
       "  <tbody>\n",
       "    <tr>\n",
       "      <th>0</th>\n",
       "      <td>20180115</td>\n",
       "      <td>robbery</td>\n",
       "      <td>A Man Dressed as Spider-Man Is on a Robbery Spree</td>\n",
       "      <td>NYC</td>\n",
       "    </tr>\n",
       "    <tr>\n",
       "      <th>1</th>\n",
       "      <td>20180115</td>\n",
       "      <td>murder</td>\n",
       "      <td>Life? Dont talk to me about life.</td>\n",
       "      <td>Albany</td>\n",
       "    </tr>\n",
       "    <tr>\n",
       "      <th>2</th>\n",
       "      <td>20180115</td>\n",
       "      <td>murder</td>\n",
       "      <td>Mama, I killed a man, put a gun against his he...</td>\n",
       "      <td>Reno</td>\n",
       "    </tr>\n",
       "    <tr>\n",
       "      <th>3</th>\n",
       "      <td>20180215</td>\n",
       "      <td>murder</td>\n",
       "      <td>REDACTED REDACTED REDACTED</td>\n",
       "      <td>SQL City</td>\n",
       "    </tr>\n",
       "    <tr>\n",
       "      <th>4</th>\n",
       "      <td>20180215</td>\n",
       "      <td>murder</td>\n",
       "      <td>Someone killed the guard! He took an arrow to ...</td>\n",
       "      <td>SQL City</td>\n",
       "    </tr>\n",
       "    <tr>\n",
       "      <th>...</th>\n",
       "      <td>...</td>\n",
       "      <td>...</td>\n",
       "      <td>...</td>\n",
       "      <td>...</td>\n",
       "    </tr>\n",
       "    <tr>\n",
       "      <th>1223</th>\n",
       "      <td>20180430</td>\n",
       "      <td>bribery</td>\n",
       "      <td>\\n</td>\n",
       "      <td>Garden Grove</td>\n",
       "    </tr>\n",
       "    <tr>\n",
       "      <th>1224</th>\n",
       "      <td>20180430</td>\n",
       "      <td>fraud</td>\n",
       "      <td>‘Why not?’ said the March Hare.\\n</td>\n",
       "      <td>Houma</td>\n",
       "    </tr>\n",
       "    <tr>\n",
       "      <th>1225</th>\n",
       "      <td>20180430</td>\n",
       "      <td>assault</td>\n",
       "      <td>\\n</td>\n",
       "      <td>Fontana</td>\n",
       "    </tr>\n",
       "    <tr>\n",
       "      <th>1226</th>\n",
       "      <td>20180501</td>\n",
       "      <td>assault</td>\n",
       "      <td>be NO mistake about it: it was neither more no...</td>\n",
       "      <td>Trenton</td>\n",
       "    </tr>\n",
       "    <tr>\n",
       "      <th>1227</th>\n",
       "      <td>20180115</td>\n",
       "      <td>murder</td>\n",
       "      <td>Security footage shows that there were 2 witne...</td>\n",
       "      <td>SQL City</td>\n",
       "    </tr>\n",
       "  </tbody>\n",
       "</table>\n",
       "<p>1228 rows × 4 columns</p>\n",
       "</div>"
      ],
      "text/plain": [
       "          date     type                                        description  \\\n",
       "0     20180115  robbery  A Man Dressed as Spider-Man Is on a Robbery Spree   \n",
       "1     20180115   murder                  Life? Dont talk to me about life.   \n",
       "2     20180115   murder  Mama, I killed a man, put a gun against his he...   \n",
       "3     20180215   murder                         REDACTED REDACTED REDACTED   \n",
       "4     20180215   murder  Someone killed the guard! He took an arrow to ...   \n",
       "...        ...      ...                                                ...   \n",
       "1223  20180430  bribery                                                 \\n   \n",
       "1224  20180430    fraud                  ‘Why not?’ said the March Hare.\\n   \n",
       "1225  20180430  assault                                                 \\n   \n",
       "1226  20180501  assault  be NO mistake about it: it was neither more no...   \n",
       "1227  20180115   murder  Security footage shows that there were 2 witne...   \n",
       "\n",
       "              city  \n",
       "0              NYC  \n",
       "1           Albany  \n",
       "2             Reno  \n",
       "3         SQL City  \n",
       "4         SQL City  \n",
       "...            ...  \n",
       "1223  Garden Grove  \n",
       "1224         Houma  \n",
       "1225       Fontana  \n",
       "1226       Trenton  \n",
       "1227      SQL City  \n",
       "\n",
       "[1228 rows x 4 columns]"
      ]
     },
     "execution_count": 10,
     "metadata": {},
     "output_type": "execute_result"
    }
   ],
   "source": [
    "df = pd.read_sql_query(\"SELECT * from crime_scene_report\", conn)\n",
    "df"
   ]
  },
  {
   "cell_type": "markdown",
   "id": "a425e983-e613-461c-9a7c-8993b3cf06df",
   "metadata": {},
   "source": [
    "**3.** Aggregate the number of crimes by type"
   ]
  },
  {
   "cell_type": "code",
   "execution_count": 15,
   "id": "a0a3bebd-05c6-4073-9def-185725e58c44",
   "metadata": {},
   "outputs": [
    {
     "data": {
      "text/html": [
       "<div>\n",
       "<style scoped>\n",
       "    .dataframe tbody tr th:only-of-type {\n",
       "        vertical-align: middle;\n",
       "    }\n",
       "\n",
       "    .dataframe tbody tr th {\n",
       "        vertical-align: top;\n",
       "    }\n",
       "\n",
       "    .dataframe thead th {\n",
       "        text-align: right;\n",
       "    }\n",
       "</style>\n",
       "<table border=\"1\" class=\"dataframe\">\n",
       "  <thead>\n",
       "    <tr style=\"text-align: right;\">\n",
       "      <th></th>\n",
       "      <th>type</th>\n",
       "      <th>crimes</th>\n",
       "    </tr>\n",
       "  </thead>\n",
       "  <tbody>\n",
       "    <tr>\n",
       "      <th>0</th>\n",
       "      <td>arson</td>\n",
       "      <td>148</td>\n",
       "    </tr>\n",
       "    <tr>\n",
       "      <th>5</th>\n",
       "      <td>murder</td>\n",
       "      <td>148</td>\n",
       "    </tr>\n",
       "    <tr>\n",
       "      <th>1</th>\n",
       "      <td>assault</td>\n",
       "      <td>145</td>\n",
       "    </tr>\n",
       "    <tr>\n",
       "      <th>8</th>\n",
       "      <td>theft</td>\n",
       "      <td>141</td>\n",
       "    </tr>\n",
       "    <tr>\n",
       "      <th>3</th>\n",
       "      <td>bribery</td>\n",
       "      <td>135</td>\n",
       "    </tr>\n",
       "    <tr>\n",
       "      <th>6</th>\n",
       "      <td>robbery</td>\n",
       "      <td>134</td>\n",
       "    </tr>\n",
       "    <tr>\n",
       "      <th>2</th>\n",
       "      <td>blackmail</td>\n",
       "      <td>130</td>\n",
       "    </tr>\n",
       "    <tr>\n",
       "      <th>4</th>\n",
       "      <td>fraud</td>\n",
       "      <td>130</td>\n",
       "    </tr>\n",
       "    <tr>\n",
       "      <th>7</th>\n",
       "      <td>smuggling</td>\n",
       "      <td>117</td>\n",
       "    </tr>\n",
       "  </tbody>\n",
       "</table>\n",
       "</div>"
      ],
      "text/plain": [
       "        type  crimes\n",
       "0      arson     148\n",
       "5     murder     148\n",
       "1    assault     145\n",
       "8      theft     141\n",
       "3    bribery     135\n",
       "6    robbery     134\n",
       "2  blackmail     130\n",
       "4      fraud     130\n",
       "7  smuggling     117"
      ]
     },
     "execution_count": 15,
     "metadata": {},
     "output_type": "execute_result"
    }
   ],
   "source": [
    "df3 = df.groupby (['type'])['type'].count().reset_index(name= 'crimes').sort_values('crimes', ascending = False)\n",
    "df3"
   ]
  },
  {
   "cell_type": "code",
   "execution_count": 32,
   "id": "ce63342d-5bac-44d2-a7d2-e5c0c0d7e050",
   "metadata": {},
   "outputs": [
    {
     "data": {
      "image/png": "[encoded data removed]",
      "text/plain": [
       "<Figure size 1300x200 with 1 Axes>"
      ]
     },
     "metadata": {},
     "output_type": "display_data"
    }
   ],
   "source": [
    "# creates the Figure and adds a single Axes object\n",
    "fig, ax = plt.subplots(figsize=(13,2),facecolor = \"#F9F9F9\")\n",
    "\n",
    "category_names = df3.type.str.title() #proper casing for x axis\n",
    "totals = df3.crimes\n",
    "\n",
    "ax.bar(category_names, totals, color = 'red', alpha = 0.7, edgecolor = \"black\")\n",
    "\n",
    "# hide some of the spines\n",
    "ax.set_frame_on(False) \n",
    "\n",
    "plt.yticks([]) #remove y ticks and labels\n",
    "ax.tick_params(axis='x',length=0) #remove x ticks but keep tick labels\n",
    "\n",
    "#plot title\n",
    "ax.set_title('Types of Crimes in CCL database between 2017-2018', y=1.2)\n",
    "\n",
    "for x,y in zip(category_names, totals):\n",
    "\n",
    "    ax.annotate(y, xy = (x,y), xytext = (x,y), ha= 'center', size = 12,\n",
    "               bbox=dict(facecolor='white', edgecolor='black', boxstyle='circle',) )\n"
   ]
  },
  {
   "cell_type": "markdown",
   "id": "d7d2bd8d-9ed1-43b3-bf70-c4442e40d14b",
   "metadata": {},
   "source": [
    "# Bite 10: Put the game together as instructed on the website"
   ]
  },
  {
   "cell_type": "code",
   "execution_count": null,
   "id": "7c62b8a1-7ae4-4a54-a60b-97ca5f9a4126",
   "metadata": {},
   "outputs": [],
   "source": []
  }
 ],
 "metadata": {
  "kernelspec": {
   "display_name": "Python 3 (ipykernel)",
   "language": "python",
   "name": "python3"
  },
  "language_info": {
   "codemirror_mode": {
    "name": "ipython",
    "version": 3
   },
   "file_extension": ".py",
   "mimetype": "text/x-python",
   "name": "python",
   "nbconvert_exporter": "python",
   "pygments_lexer": "ipython3",
   "version": "3.9.12"
  }
 },
 "nbformat": 4,
 "nbformat_minor": 5
}
