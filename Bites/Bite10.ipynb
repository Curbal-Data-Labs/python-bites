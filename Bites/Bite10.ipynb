{
 "cells": [
  {
   "cell_type": "markdown",
   "id": "8246f5f2-0255-4359-91da-0b9f5624b880",
   "metadata": {
    "tags": []
   },
   "source": [
    "# Bite 10: Bar charts with matplotlib"
   ]
  },
  {
   "cell_type": "markdown",
   "id": "e2af5d14-d173-4a97-b9d7-317f5ff0905b",
   "metadata": {},
   "source": [
    "[![Open in Colab](https://colab.research.google.com/assets/colab-badge.svg)](https://colab.research.google.com/github/Curbal-Data-Labs/python-bites/blob/main/Bites/Bite10.ipynb)"
   ]
  },
  {
   "cell_type": "markdown",
   "id": "6bb22642-b093-41ff-951b-e8c8da769d23",
   "metadata": {},
   "source": [
    "### Video tutorial and Bite 10 available [here](https://curbal.com/curbal-learning-portal/bite-10)"
   ]
  },
  {
   "cell_type": "markdown",
   "id": "6a23fb9d-e67e-4a8f-9768-3ca602e389d2",
   "metadata": {},
   "source": [
    "[![Bite 1](https://img.youtube.com/vi/3bXLNc4vE48/0.jpg)](https://www.youtube.com/watch?v=3bXLNc4vE48)"
   ]
  },
  {
   "cell_type": "markdown",
   "id": "fa5b2811-6276-4d3e-92fd-61fac4bc8df8",
   "metadata": {},
   "source": [
    "**1.** Connect to the database"
   ]
  },
  {
   "cell_type": "markdown",
   "id": "15cd7831-6d52-46a7-98fc-7fbd585d89f8",
   "metadata": {},
   "source": [
    "**2.** Get the data from the Crime Scene Report table"
   ]
  },
  {
   "cell_type": "markdown",
   "id": "a425e983-e613-461c-9a7c-8993b3cf06df",
   "metadata": {},
   "source": [
    "**3.** Aggregate the number of crimes by type"
   ]
  },
  {
   "cell_type": "markdown",
   "id": "d7d2bd8d-9ed1-43b3-bf70-c4442e40d14b",
   "metadata": {},
   "source": [
    "# Bite 10: Put the game together as instructed on the website"
   ]
  },
  {
   "cell_type": "code",
   "execution_count": null,
   "id": "7c62b8a1-7ae4-4a54-a60b-97ca5f9a4126",
   "metadata": {},
   "outputs": [],
   "source": []
  }
 ],
 "metadata": {
  "kernelspec": {
   "display_name": "Python 3 (ipykernel)",
   "language": "python",
   "name": "python3"
  },
  "language_info": {
   "codemirror_mode": {
    "name": "ipython",
    "version": 3
   },
   "file_extension": ".py",
   "mimetype": "text/x-python",
   "name": "python",
   "nbconvert_exporter": "python",
   "pygments_lexer": "ipython3",
   "version": "3.9.12"
  }
 },
 "nbformat": 4,
 "nbformat_minor": 5
}
