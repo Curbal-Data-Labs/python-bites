{
 "cells": [
  {
   "cell_type": "markdown",
   "id": "36d47814-1681-4474-8e80-89c1796e7ca5",
   "metadata": {
    "tags": []
   },
   "source": [
    "# Bite 2: Functions, global and local variables"
   ]
  },
  {
   "cell_type": "markdown",
   "id": "7f6ce7db-e73c-4ce1-9309-0c3a0465600c",
   "metadata": {},
   "source": [
    "[![Open in Colab](https://colab.research.google.com/assets/colab-badge.svg)](https://colab.research.google.com/github/Curbal-Data-Labs/python-bites/blob/main/Bites/Bite1.ipynb)"
   ]
  },
  {
   "cell_type": "markdown",
   "id": "80183e82-de50-4867-8661-d41e6a03fb57",
   "metadata": {},
   "source": [
    "### Video tutorial and Bite 1 available [here](https://curbal.com/curbal-learning-portal/bite-1 )"
   ]
  },
  {
   "cell_type": "markdown",
   "id": "aa5bca8c-7655-463c-82a4-3599b95edd90",
   "metadata": {},
   "source": [
    "[![Bite 1](https://img.youtube.com/vi/ZgqnPYmEcXw/0.jpg)](https://www.youtube.com/watch?v=ZgqnPYmEcXw)"
   ]
  },
  {
   "cell_type": "markdown",
   "id": "1b737dc8-12cf-4989-b936-7e00534a36b4",
   "metadata": {},
   "source": [
    "**1.** Define a function called my_function that will print the user's name"
   ]
  },
  {
   "cell_type": "code",
   "execution_count": 6,
   "id": "9e09f82f-c25a-4953-9205-755d47437036",
   "metadata": {},
   "outputs": [],
   "source": [
    "def my_function():\n",
    "    print(\"My name is Ruth\")"
   ]
  },
  {
   "cell_type": "markdown",
   "id": "cd815bd3-6e6d-49e6-a6f8-19ab8cf2aa52",
   "metadata": {},
   "source": [
    "**2.** Execute the function"
   ]
  },
  {
   "cell_type": "code",
   "execution_count": 7,
   "id": "acf5c333-f1d2-42c2-bc0e-59b6b1b953f9",
   "metadata": {},
   "outputs": [
    {
     "name": "stdout",
     "output_type": "stream",
     "text": [
      "My name is Ruth\n"
     ]
    }
   ],
   "source": [
    "my_function()"
   ]
  },
  {
   "cell_type": "markdown",
   "id": "5ec48761-4332-4306-9b2d-6f7832cdb7b3",
   "metadata": {},
   "source": [
    "**3.** Create a function where you can input the name of the user and execute it"
   ]
  },
  {
   "cell_type": "code",
   "execution_count": 11,
   "id": "f663893e-c5a2-4839-abd3-9041e556fdcb",
   "metadata": {},
   "outputs": [
    {
     "name": "stdout",
     "output_type": "stream",
     "text": [
      "My name is Ruth\n"
     ]
    }
   ],
   "source": [
    "def my_function(Username):\n",
    "    print(\"My name is \" + Username)\n",
    "\n",
    "my_function(\"Ruth\")"
   ]
  },
  {
   "cell_type": "markdown",
   "id": "80c92d95-26ec-4b42-8bdd-dd6dabf2c274",
   "metadata": {},
   "source": [
    "# Global and local variables"
   ]
  },
  {
   "cell_type": "markdown",
   "id": "e50b8b81-65a7-49e8-9b02-47cfbfc9a12d",
   "metadata": {},
   "source": [
    "**4.** Create a function that ask the user for their name, stores it in a variable called \"Participant\""
   ]
  },
  {
   "cell_type": "code",
   "execution_count": 13,
   "id": "c5015083-67e0-4bbd-9638-96364f3d08ba",
   "metadata": {},
   "outputs": [
    {
     "name": "stdin",
     "output_type": "stream",
     "text": [
      "What is your name? Ruth\n"
     ]
    }
   ],
   "source": [
    "def user_name():\n",
    "    Participant = input(\"What is your name?\")\n",
    "\n",
    "user_name()"
   ]
  },
  {
   "cell_type": "markdown",
   "id": "755040c2-141d-4d83-bea4-0c55d0d7a805",
   "metadata": {},
   "source": [
    "**5.** Execute it and print the user name"
   ]
  },
  {
   "cell_type": "code",
   "execution_count": 15,
   "id": "d7e74142-4813-4820-97b4-dc6da128db8a",
   "metadata": {},
   "outputs": [
    {
     "ename": "NameError",
     "evalue": "name 'Participant' is not defined",
     "output_type": "error",
     "traceback": [
      "\u001b[1;31m---------------------------------------------------------------------------\u001b[0m",
      "\u001b[1;31mNameError\u001b[0m                                 Traceback (most recent call last)",
      "Cell \u001b[1;32mIn [15], line 1\u001b[0m\n\u001b[1;32m----> 1\u001b[0m \u001b[38;5;28mprint\u001b[39m(\u001b[43mParticipant\u001b[49m)\n",
      "\u001b[1;31mNameError\u001b[0m: name 'Participant' is not defined"
     ]
    }
   ],
   "source": [
    "print(Participant)"
   ]
  },
  {
   "cell_type": "code",
   "execution_count": 16,
   "id": "3d4b2774-57be-4806-a567-8e383c7b2051",
   "metadata": {},
   "outputs": [
    {
     "name": "stdin",
     "output_type": "stream",
     "text": [
      "What is your name? Ruth\n"
     ]
    },
    {
     "name": "stdout",
     "output_type": "stream",
     "text": [
      "Ruth\n"
     ]
    }
   ],
   "source": [
    "def user_name():\n",
    "    global Participant\n",
    "    Participant = input(\"What is your name?\")\n",
    "\n",
    "user_name()\n",
    "print(Participant)"
   ]
  },
  {
   "cell_type": "markdown",
   "id": "5bf44e00-a961-4942-ab1d-4265f9fb5028",
   "metadata": {},
   "source": [
    "# Bite 2"
   ]
  },
  {
   "cell_type": "code",
   "execution_count": null,
   "id": "c5fd79a7-2369-4427-83ac-5e180a821dca",
   "metadata": {},
   "outputs": [
    {
     "name": "stdout",
     "output_type": "stream",
     "text": [
      "A crime has taken place and Curbal Crime Labs (CCL) needs your help.\n",
      "The crime is a murder that occurred sometime on Jan.15, 2018.\n",
      "and a crime data analyst or curbalist as we call it at CCL,\n",
      "is needed to help solve the case.\n",
      "All the crime files will be provided to you\n",
      "but before we do that:\n",
      "\n"
     ]
    }
   ],
   "source": [
    "def intro():\n",
    "    print(\"A crime has taken place and Curbal Crime Labs (CCL) needs your help.\\n\" \n",
    "      \"The crime is a murder that occurred sometime on Jan.15, 2018.\\n\"\n",
    "      \"and a crime data analyst or curbalist as we call it at CCL,\\n\"\n",
    "      \"is needed to help solve the case.\\n\"\n",
    "      \"All the crime files will be provided to you\\n\"\n",
    "      \"but before we do that:\\n\")\n",
    "\n",
    "def username():\n",
    "    global Participant\n",
    "    Participant = input(\"What is your name?\\n\")\n",
    "\n",
    "intro()\n",
    "username()\n",
    "print(\"\\nHello \"+ Participant + \"! Welcome to CCL\\n\")"
   ]
  },
  {
   "cell_type": "code",
   "execution_count": null,
   "id": "989c41ec-5e9e-4f2f-b932-0e8c00ae7b38",
   "metadata": {},
   "outputs": [],
   "source": [
    "\n",
    "\n"
   ]
  }
 ],
 "metadata": {
  "kernelspec": {
   "display_name": "Python 3 (ipykernel)",
   "language": "python",
   "name": "python3"
  },
  "language_info": {
   "codemirror_mode": {
    "name": "ipython",
    "version": 3
   },
   "file_extension": ".py",
   "mimetype": "text/x-python",
   "name": "python",
   "nbconvert_exporter": "python",
   "pygments_lexer": "ipython3",
   "version": "3.9.12"
  }
 },
 "nbformat": 4,
 "nbformat_minor": 5
}
