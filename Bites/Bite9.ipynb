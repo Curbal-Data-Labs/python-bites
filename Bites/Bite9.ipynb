{
 "cells": [
  {
   "cell_type": "markdown",
   "id": "8246f5f2-0255-4359-91da-0b9f5624b880",
   "metadata": {
    "tags": []
   },
   "source": [
    "# Bite 9: Plot all crimes in a line chart"
   ]
  },
  {
   "cell_type": "markdown",
   "id": "cdd1760c-e581-4309-a990-ed9ba0e2545e",
   "metadata": {},
   "source": [
    "[![Open in Colab](https://colab.research.google.com/assets/colab-badge.svg)](https://colab.research.google.com/github/Curbal-Data-Labs/python-bites/blob/main/Bites/Bite9.ipynb)"
   ]
  },
  {
   "cell_type": "markdown",
   "id": "6bb22642-b093-41ff-951b-e8c8da769d23",
   "metadata": {},
   "source": [
    "### Video tutorial and Bite 9 available [here](https://curbal.com/curbal-learning-portal/bite-9)"
   ]
  },
  {
   "cell_type": "markdown",
   "id": "24970ac5-cd41-4d90-9e6b-f9f589b9c2b5",
   "metadata": {},
   "source": [
    "[![Bite 1](https://img.youtube.com/vi/xiz_4lfYS2c/0.jpg)](https://www.youtube.com/watch?v=xiz_4lfYS2c)"
   ]
  },
  {
   "cell_type": "markdown",
   "id": "082f2b90-8df2-40b8-8a41-9cf61f17ebc0",
   "metadata": {},
   "source": [
    "**1.** Connect to the database"
   ]
  },
  {
   "cell_type": "markdown",
   "id": "40f519ec-ec5e-40bf-abde-616f5169b0a1",
   "metadata": {},
   "source": [
    "**2.** Get the data from the Crime Scene Report table"
   ]
  },
  {
   "cell_type": "markdown",
   "id": "d5aa4b2d-06c9-4617-b527-24f8d4fa5bcc",
   "metadata": {},
   "source": [
    "**3.** Convert the date column to dates and add a year month column"
   ]
  },
  {
   "cell_type": "markdown",
   "id": "3074aad1-cf78-4293-95c2-5c3dc5d75dbd",
   "metadata": {},
   "source": [
    "**4.** Aggregate the number of crimes by month"
   ]
  },
  {
   "cell_type": "markdown",
   "id": "3ba905a3-64e9-440f-b5e5-cccbbf9ed081",
   "metadata": {},
   "source": [
    "**5.** Plot all crimes on a line chart using matplotlib"
   ]
  },
  {
   "cell_type": "markdown",
   "id": "257b7d49-70a3-4f9c-a0a8-505352afc3d0",
   "metadata": {},
   "source": [
    "# Bite 9: Put the game together as instructed on the website"
   ]
  },
  {
   "cell_type": "code",
   "execution_count": null,
   "id": "fd9b9341-2a01-4042-b449-3d6439b2004b",
   "metadata": {},
   "outputs": [],
   "source": []
  }
 ],
 "metadata": {
  "kernelspec": {
   "display_name": "Python 3 (ipykernel)",
   "language": "python",
   "name": "python3"
  },
  "language_info": {
   "codemirror_mode": {
    "name": "ipython",
    "version": 3
   },
   "file_extension": ".py",
   "mimetype": "text/x-python",
   "name": "python",
   "nbconvert_exporter": "python",
   "pygments_lexer": "ipython3",
   "version": "3.9.12"
  }
 },
 "nbformat": 4,
 "nbformat_minor": 5
}
