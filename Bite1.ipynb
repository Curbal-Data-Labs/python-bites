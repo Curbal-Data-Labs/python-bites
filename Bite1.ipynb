{
  "cells": [
    {
      "cell_type": "markdown",
      "metadata": {
        "id": "view-in-github",
        "colab_type": "text"
      },
      "source": [
        "<a href=\"https://colab.research.google.com/github/Curbal-Data-Labs/python-bites/blob/main/Bite1.ipynb\" target=\"_parent\"><img src=\"https://colab.research.google.com/assets/colab-badge.svg\" alt=\"Open In Colab\"/></a>"
      ]
    },
    {
      "cell_type": "markdown",
      "id": "51fd3704-73ef-4703-bbf6-2ce22dbc0ea6",
      "metadata": {
        "id": "51fd3704-73ef-4703-bbf6-2ce22dbc0ea6"
      },
      "source": [
        "# Practice 1: Print Hello World!"
      ]
    },
    {
      "cell_type": "markdown",
      "id": "b8e31ed3-e915-4f84-b44a-26298563e350",
      "metadata": {
        "id": "b8e31ed3-e915-4f84-b44a-26298563e350"
      },
      "source": [
        "**1.** Print \"Hello World! using pyhon and two different string denotations"
      ]
    },
    {
      "cell_type": "code",
      "execution_count": null,
      "id": "9e03b1af-49aa-4659-8480-40a9b9e9b877",
      "metadata": {
        "id": "9e03b1af-49aa-4659-8480-40a9b9e9b877"
      },
      "outputs": [],
      "source": []
    },
    {
      "cell_type": "markdown",
      "id": "a4e370e4-d36c-4ae1-9e59-9d656c4ddc93",
      "metadata": {
        "tags": [],
        "id": "a4e370e4-d36c-4ae1-9e59-9d656c4ddc93"
      },
      "source": [
        "**2.** Print multiline text"
      ]
    },
    {
      "cell_type": "code",
      "execution_count": null,
      "id": "8418deda-4d17-4cc6-9282-8907dcdda743",
      "metadata": {
        "id": "8418deda-4d17-4cc6-9282-8907dcdda743"
      },
      "outputs": [],
      "source": []
    },
    {
      "cell_type": "markdown",
      "id": "590c0c92-66b6-4b8d-93ba-cbd35d695c75",
      "metadata": {
        "id": "590c0c92-66b6-4b8d-93ba-cbd35d695c75"
      },
      "source": [
        "**3.** Ask the user for their name"
      ]
    },
    {
      "cell_type": "code",
      "execution_count": null,
      "id": "5ebd716c-7f9e-47db-ab91-416254aa8d5a",
      "metadata": {
        "id": "5ebd716c-7f9e-47db-ab91-416254aa8d5a"
      },
      "outputs": [],
      "source": []
    },
    {
      "cell_type": "markdown",
      "id": "c05fa08a-9b5a-485c-9470-cce1ac47a402",
      "metadata": {
        "id": "c05fa08a-9b5a-485c-9470-cce1ac47a402"
      },
      "source": [
        "**4.** Store user input in a variable called \"Username\""
      ]
    },
    {
      "cell_type": "code",
      "execution_count": null,
      "id": "b6870e01-dc73-4722-82db-a5fc4375451b",
      "metadata": {
        "id": "b6870e01-dc73-4722-82db-a5fc4375451b"
      },
      "outputs": [],
      "source": []
    },
    {
      "cell_type": "markdown",
      "id": "cbeaec34-2327-4b5b-8024-212894538dc6",
      "metadata": {
        "id": "cbeaec34-2327-4b5b-8024-212894538dc6"
      },
      "source": [
        "**5.** Print the username variable"
      ]
    },
    {
      "cell_type": "code",
      "execution_count": null,
      "id": "2efed9bb-d50b-4dab-9ddd-9a1a34fc8d1a",
      "metadata": {
        "id": "2efed9bb-d50b-4dab-9ddd-9a1a34fc8d1a"
      },
      "outputs": [],
      "source": []
    },
    {
      "cell_type": "markdown",
      "id": "9af5088f-27c3-446c-8fa7-60ff0baca411",
      "metadata": {
        "id": "9af5088f-27c3-446c-8fa7-60ff0baca411"
      },
      "source": [
        "**6.** Concatenate text and variables to print: Hello (Username), nice to meet you :)"
      ]
    },
    {
      "cell_type": "code",
      "execution_count": null,
      "id": "17b93a27-024c-41e5-9820-73bfb2d5b5a7",
      "metadata": {
        "id": "17b93a27-024c-41e5-9820-73bfb2d5b5a7"
      },
      "outputs": [],
      "source": []
    },
    {
      "cell_type": "markdown",
      "id": "6c25ffbe-254a-4589-b205-cd3910bca674",
      "metadata": {
        "id": "6c25ffbe-254a-4589-b205-cd3910bca674"
      },
      "source": [
        "# Bite 1: Create a program that ask for the user name and greets them back "
      ]
    },
    {
      "cell_type": "code",
      "execution_count": null,
      "id": "11ff66b4-ceb1-4a98-ab0c-003770d7457f",
      "metadata": {
        "id": "11ff66b4-ceb1-4a98-ab0c-003770d7457f"
      },
      "outputs": [],
      "source": []
    }
  ],
  "metadata": {
    "kernelspec": {
      "display_name": "Python 3 (ipykernel)",
      "language": "python",
      "name": "python3"
    },
    "language_info": {
      "codemirror_mode": {
        "name": "ipython",
        "version": 3
      },
      "file_extension": ".py",
      "mimetype": "text/x-python",
      "name": "python",
      "nbconvert_exporter": "python",
      "pygments_lexer": "ipython3",
      "version": "3.9.12"
    },
    "colab": {
      "provenance": [],
      "include_colab_link": true
    }
  },
  "nbformat": 4,
  "nbformat_minor": 5
}